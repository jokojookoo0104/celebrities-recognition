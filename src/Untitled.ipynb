{
 "cells": [
  {
   "cell_type": "code",
   "execution_count": 13,
   "metadata": {
    "collapsed": true
   },
   "outputs": [],
   "source": [
    "import os\n",
    "\n",
    "def get_latest_image(dirpath, valid_extensions=('jpg','jpeg','png')):\n",
    "    \"\"\"\n",
    "    Get the latest image file in the given directory\n",
    "    \"\"\"\n",
    "\n",
    "    # get filepaths of all files and dirs in the given dir\n",
    "    valid_files = [os.path.join(dirpath, filename) for filename in os.listdir(dirpath)]\n",
    "    # filter out directories, no-extension, and wrong extension files\n",
    "    valid_files = [f for f in valid_files if '.' in f and \\\n",
    "        f.rsplit('.',1)[-1] in valid_extensions and os.path.isfile(f)]\n",
    "\n",
    "    if not valid_files:\n",
    "        raise ValueError(\"No valid images in %s\" % dirpath)\n",
    "\n",
    "    return max(valid_files, key=os.path.getmtime) "
   ]
  },
  {
   "cell_type": "code",
   "execution_count": 23,
   "metadata": {
    "collapsed": false
   },
   "outputs": [
    {
     "data": {
      "text/plain": [
       "'/home/sbikevn360/celebrities-recognition/database/facefb/Emily/7.jpg'"
      ]
     },
     "execution_count": 23,
     "metadata": {},
     "output_type": "execute_result"
    }
   ],
   "source": [
    "get_latest_image('/home/sbikevn360/celebrities-recognition/database/facefb/Emily/')"
   ]
  },
  {
   "cell_type": "code",
   "execution_count": null,
   "metadata": {
    "collapsed": true
   },
   "outputs": [],
   "source": []
  }
 ],
 "metadata": {
  "kernelspec": {
   "display_name": "Python 3",
   "language": "python",
   "name": "python3"
  },
  "language_info": {
   "codemirror_mode": {
    "name": "ipython",
    "version": 3
   },
   "file_extension": ".py",
   "mimetype": "text/x-python",
   "name": "python",
   "nbconvert_exporter": "python",
   "pygments_lexer": "ipython3",
   "version": "3.6.8"
  }
 },
 "nbformat": 4,
 "nbformat_minor": 2
}
