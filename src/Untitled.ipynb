{
 "cells": [
  {
   "cell_type": "code",
   "execution_count": 13,
   "metadata": {
    "collapsed": false
   },
   "outputs": [],
   "source": [
    "import sys\n",
    "sys.path.append('../')\n",
    "from src.config import *\n",
    "import os\n"
   ]
  },
  {
   "cell_type": "code",
   "execution_count": 14,
   "metadata": {
    "collapsed": true
   },
   "outputs": [],
   "source": [
    "def list_all_models():\n",
    "    files = []\n",
    "    for file in os.listdir(MODELS_BASE):\n",
    "        if isfile(join(MODELS_BASE,file)):\n",
    "            files.append(file)\n",
    "\n",
    "    models = []\n",
    "    \n",
    "    #load the models to memory only once, when the app boots\n",
    "    \n",
    "    for path_to_model in files:\n",
    "        model = os.path.basename(path_to_model)\n",
    "        version_id = os.path.splitext(model)[0]\n",
    "        model = {\n",
    "            \"model\": model,\n",
    "            \"version\": version_id}\n",
    "        models.append(model)\n",
    "    return models"
   ]
  },
  {
   "cell_type": "code",
   "execution_count": 15,
   "metadata": {
    "collapsed": false
   },
   "outputs": [],
   "source": [
    "mo = list_all_models()"
   ]
  },
  {
   "cell_type": "code",
   "execution_count": null,
   "metadata": {
    "collapsed": true
   },
   "outputs": [],
   "source": []
  }
 ],
 "metadata": {
  "kernelspec": {
   "display_name": "Python 3",
   "language": "python",
   "name": "python3"
  },
  "language_info": {
   "codemirror_mode": {
    "name": "ipython",
    "version": 3
   },
   "file_extension": ".py",
   "mimetype": "text/x-python",
   "name": "python",
   "nbconvert_exporter": "python",
   "pygments_lexer": "ipython3",
   "version": "3.6.8"
  }
 },
 "nbformat": 4,
 "nbformat_minor": 2
}
